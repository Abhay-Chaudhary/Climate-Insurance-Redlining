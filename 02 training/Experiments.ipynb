{
 "cells": [
  {
   "cell_type": "code",
   "execution_count": 1,
   "id": "42d5361c",
   "metadata": {},
   "outputs": [],
   "source": [
    "import pandas as pd\n",
    "import numpy as np\n",
    "import matplotlib.pyplot as plt\n",
    "from pathlib import Path\n",
    "import seaborn as sns\n",
    "\n",
    "sns.set_style('ticks')"
   ]
  },
  {
   "cell_type": "code",
   "execution_count": 2,
   "id": "bdcc521b",
   "metadata": {},
   "outputs": [],
   "source": [
    "df = pd.read_csv('../data/2018_2021/to_model.csv', index_col=0)"
   ]
  },
  {
   "cell_type": "code",
   "execution_count": 64,
   "id": "219ca622",
   "metadata": {},
   "outputs": [],
   "source": [
    "from sklearn.model_selection import train_test_split\n",
    "from sklearn.metrics import mean_squared_error as mse, mean_absolute_error as mae, root_mean_squared_error as rmse\n",
    "from sklearn.pipeline import Pipeline\n",
    "from sklearn.preprocessing import StandardScaler"
   ]
  },
  {
   "cell_type": "code",
   "execution_count": 65,
   "id": "49dcd197",
   "metadata": {},
   "outputs": [],
   "source": [
    "df_train, df_test = train_test_split(\n",
    "    df,\n",
    "    test_size=.2,\n",
    "    random_state=13348,\n",
    "    shuffle=True\n",
    ")"
   ]
  },
  {
   "cell_type": "code",
   "execution_count": 66,
   "id": "29b580e5",
   "metadata": {},
   "outputs": [
    {
     "data": {
      "text/plain": [
       "((926, 57), (232, 57))"
      ]
     },
     "execution_count": 66,
     "metadata": {},
     "output_type": "execute_result"
    }
   ],
   "source": [
    "df_train.shape, df_test.shape"
   ]
  },
  {
   "cell_type": "code",
   "execution_count": 67,
   "id": "03cf792f",
   "metadata": {},
   "outputs": [
    {
     "data": {
      "text/html": [
       "<div>\n",
       "<style scoped>\n",
       "    .dataframe tbody tr th:only-of-type {\n",
       "        vertical-align: middle;\n",
       "    }\n",
       "\n",
       "    .dataframe tbody tr th {\n",
       "        vertical-align: top;\n",
       "    }\n",
       "\n",
       "    .dataframe thead th {\n",
       "        text-align: right;\n",
       "    }\n",
       "</style>\n",
       "<table border=\"1\" class=\"dataframe\">\n",
       "  <thead>\n",
       "    <tr style=\"text-align: right;\">\n",
       "      <th></th>\n",
       "      <th>rmse</th>\n",
       "      <th>mse</th>\n",
       "      <th>mae</th>\n",
       "      <th>global_diff</th>\n",
       "    </tr>\n",
       "  </thead>\n",
       "  <tbody>\n",
       "  </tbody>\n",
       "</table>\n",
       "</div>"
      ],
      "text/plain": [
       "Empty DataFrame\n",
       "Columns: [rmse, mse, mae, global_diff]\n",
       "Index: []"
      ]
     },
     "execution_count": 67,
     "metadata": {},
     "output_type": "execute_result"
    }
   ],
   "source": [
    "eval = pd.DataFrame(columns=['rmse', 'mse', 'mae', 'global_diff'])\n",
    "eval"
   ]
  },
  {
   "cell_type": "code",
   "execution_count": 68,
   "id": "4738877d",
   "metadata": {},
   "outputs": [],
   "source": [
    "def plot_metrics(eval):\n",
    "\n",
    "    assert eval.shape[0] >= 1, ('Evaluation dataframe is empty.')\n",
    "    \n",
    "\n",
    "    cols = eval.shape[0] * 2\n",
    "\n",
    "    eval.plot.bar(y=['rmse', 'mae'], rot=0, figsize=(cols,3), width=.8)\n",
    "\n",
    "    plt.legend()\n",
    "    plt.show()\n",
    "\n",
    "def measure_diff(y_true, preds):\n",
    "    return round( abs((sum(y_true)-sum(preds)) / (1000 * 1000)), 2)\n",
    "\n",
    "def calculate_metrics(y_true, preds):\n",
    "    return [rmse(y_true, preds), \n",
    "            mse(y_true, preds), \n",
    "            mae(y_true, preds), \n",
    "            measure_diff(y_true, preds)]"
   ]
  },
  {
   "cell_type": "code",
   "execution_count": null,
   "id": "6017597c",
   "metadata": {},
   "outputs": [],
   "source": [
    "target = 'exposure_22' # 'pct_fair_plan' \n",
    "\n",
    "features = ['growth_premium', 'growth_fire_smoke_claims', 'growth_fire_smoke_losses', 'ratio_losses_to_premium', \n",
    " 'pct_nonrenewed_policies', 'pct_nonrenewed_owner', 'pct_nonrenewed_company', 'ratio_new_to_nonrenewed',\n",
    " 'change_new_policies', 'change_renewed_policies', 'change_nonrenewed_owner', 'change_nonrenewed_company',\n",
    " 'Avg_Median_Income_2018_2021',\n",
    " 'Total_Growth_2018_2021', # income change\n",
    " 'Total_Change_2018_2021', # racial changes\n",
    " 'percent_increase_2018_2021', # housing prices\n",
    " 'Count_2022', 'Sum_1yr', 'Sum_3yr', 'Sum_5yr', 'Sum_10yr'] # disasters\n",
    "\n",
    "\n",
    "\n",
    "features1 = ['growth_premium', 'growth_fire_smoke_losses', 'ratio_losses_to_premium', \n",
    " 'pct_nonrenewed_owner', 'pct_nonrenewed_company', 'ratio_new_to_nonrenewed',\n",
    " 'Avg_Median_Income_2018_2021',\n",
    " 'Total_Growth_2018_2021', # income change\n",
    " 'Total_Change_2018_2021', # racial changes\n",
    " 'percent_increase_2018_2021', # housing prices\n",
    " 'Sum_3yr', 'Sum_5yr', 'Sum_10yr'] # disasters\n",
    "\n"
   ]
  },
  {
   "cell_type": "markdown",
   "id": "d20b3013",
   "metadata": {},
   "source": [
    "## Base Model\n",
    "\n",
    "Here we train two base models using mean and median to compare to other algorithms."
   ]
  },
  {
   "cell_type": "code",
   "execution_count": 9,
   "id": "6b5471f2",
   "metadata": {},
   "outputs": [],
   "source": [
    "mu_y = df_train[target].mean()\n",
    "preds = [mu_y] * df_test.shape[0]\n",
    "eval.loc['base_mean'] = calculate_metrics(df_test[target], preds)"
   ]
  },
  {
   "cell_type": "code",
   "execution_count": 10,
   "id": "2d62f729",
   "metadata": {},
   "outputs": [],
   "source": [
    "median_y = df_train[target].median()\n",
    "preds = [median_y] * df_test.shape[0]\n",
    "eval.loc['base_median'] = calculate_metrics(df_test[target], preds)\n"
   ]
  },
  {
   "cell_type": "code",
   "execution_count": 11,
   "id": "739eb83e",
   "metadata": {},
   "outputs": [
    {
     "data": {
      "text/html": [
       "<div>\n",
       "<style scoped>\n",
       "    .dataframe tbody tr th:only-of-type {\n",
       "        vertical-align: middle;\n",
       "    }\n",
       "\n",
       "    .dataframe tbody tr th {\n",
       "        vertical-align: top;\n",
       "    }\n",
       "\n",
       "    .dataframe thead th {\n",
       "        text-align: right;\n",
       "    }\n",
       "</style>\n",
       "<table border=\"1\" class=\"dataframe\">\n",
       "  <thead>\n",
       "    <tr style=\"text-align: right;\">\n",
       "      <th></th>\n",
       "      <th>rmse</th>\n",
       "      <th>mse</th>\n",
       "      <th>mae</th>\n",
       "      <th>global_diff</th>\n",
       "    </tr>\n",
       "  </thead>\n",
       "  <tbody>\n",
       "    <tr>\n",
       "      <th>base_mean</th>\n",
       "      <td>3.814628e+08</td>\n",
       "      <td>1.455139e+17</td>\n",
       "      <td>1.691949e+08</td>\n",
       "      <td>6666.43</td>\n",
       "    </tr>\n",
       "    <tr>\n",
       "      <th>base_median</th>\n",
       "      <td>3.914104e+08</td>\n",
       "      <td>1.532021e+17</td>\n",
       "      <td>1.129267e+08</td>\n",
       "      <td>21406.84</td>\n",
       "    </tr>\n",
       "  </tbody>\n",
       "</table>\n",
       "</div>"
      ],
      "text/plain": [
       "                     rmse           mse           mae  global_diff\n",
       "base_mean    3.814628e+08  1.455139e+17  1.691949e+08      6666.43\n",
       "base_median  3.914104e+08  1.532021e+17  1.129267e+08     21406.84"
      ]
     },
     "execution_count": 11,
     "metadata": {},
     "output_type": "execute_result"
    }
   ],
   "source": [
    "eval"
   ]
  },
  {
   "cell_type": "markdown",
   "id": "268187ff",
   "metadata": {},
   "source": [
    "## Linear Regressions"
   ]
  },
  {
   "cell_type": "code",
   "execution_count": 12,
   "id": "8cdf9559",
   "metadata": {},
   "outputs": [],
   "source": [
    "from sklearn.linear_model import LinearRegression"
   ]
  },
  {
   "cell_type": "code",
   "execution_count": 13,
   "id": "e05389c1",
   "metadata": {},
   "outputs": [],
   "source": [
    "# with all regressors\n",
    "\n",
    "lr_all = LinearRegression()\n",
    "lr_all.fit(df_train[features], df_train[target])\n",
    "preds = lr_all.predict(df_test[features])\n",
    "\n",
    "eval.loc['lr_all_regs'] = calculate_metrics(df_test[target], preds)"
   ]
  },
  {
   "cell_type": "code",
   "execution_count": 14,
   "id": "352d2966",
   "metadata": {},
   "outputs": [],
   "source": [
    "# selected regressors\n",
    "\n",
    "lr_sel = LinearRegression()\n",
    "lr_sel.fit(df_train[features1], df_train[target])\n",
    "preds = lr_sel.predict(df_test[features1])\n",
    "\n",
    "eval.loc['lr_sel_regs'] = calculate_metrics(df_test[target], preds)"
   ]
  },
  {
   "cell_type": "code",
   "execution_count": 15,
   "id": "a1be42a5",
   "metadata": {},
   "outputs": [
    {
     "data": {
      "image/png": "[encoded data removed]",
      "text/plain": [
       "<Figure size 800x300 with 1 Axes>"
      ]
     },
     "metadata": {},
     "output_type": "display_data"
    }
   ],
   "source": [
    "plot_metrics(eval)"
   ]
  },
  {
   "cell_type": "markdown",
   "id": "e08269c5",
   "metadata": {},
   "source": [
    "## kNN regressor"
   ]
  },
  {
   "cell_type": "code",
   "execution_count": 16,
   "id": "340177f4",
   "metadata": {},
   "outputs": [],
   "source": [
    "from sklearn.neighbors import KNeighborsRegressor"
   ]
  },
  {
   "cell_type": "code",
   "execution_count": 17,
   "id": "8626a714",
   "metadata": {},
   "outputs": [],
   "source": [
    "# finding best k (that minimizes RMSE)\n",
    "\n",
    "k_range = range(3, 50)\n",
    "rmses = []\n",
    "\n",
    "for k in k_range:\n",
    "    knn_pipe = Pipeline([\n",
    "        ('scaler', StandardScaler()),\n",
    "        ('knn', KNeighborsRegressor(n_neighbors=k))\n",
    "    ])\n",
    "    \n",
    "    knn_pipe.fit(df_train[features], df_train[target])\n",
    "    preds = knn_pipe.predict(df_test[features])\n",
    "\n",
    "    rmses.append((k, rmse(df_test[target], preds)))"
   ]
  },
  {
   "cell_type": "code",
   "execution_count": 18,
   "id": "992c722b",
   "metadata": {},
   "outputs": [
    {
     "data": {
      "image/png": "[encoded data removed]",
      "text/plain": [
       "<Figure size 600x400 with 1 Axes>"
      ]
     },
     "metadata": {},
     "output_type": "display_data"
    }
   ],
   "source": [
    "plt.figure(figsize=(6,4))\n",
    "\n",
    "plt.plot(np.array(rmses)[:, 0], np.array(rmses)[:, 1])\n",
    "\n",
    "plt.ylabel('RMSE')\n",
    "plt.xlabel('k')\n",
    "\n",
    "plt.show()"
   ]
  },
  {
   "cell_type": "code",
   "execution_count": 19,
   "id": "3b96fc10",
   "metadata": {},
   "outputs": [],
   "source": [
    "# training models with k = 14 to avoid overfitting\n",
    "k = 14\n",
    "\n",
    "# all features\n",
    "knn_all = Pipeline([\n",
    "    ('scaler', StandardScaler()),\n",
    "    ('knn', KNeighborsRegressor(n_neighbors=k))\n",
    "])\n",
    "\n",
    "knn_all.fit(df_train[features], df_train[target])\n",
    "preds = knn_all.predict(df_test[features])\n",
    "eval.loc['knn_all'] = calculate_metrics(df_test[target], preds)"
   ]
  },
  {
   "cell_type": "code",
   "execution_count": 20,
   "id": "ff447d8c",
   "metadata": {},
   "outputs": [],
   "source": [
    "# selected features\n",
    "knn_sel = Pipeline([\n",
    "    ('scaler', StandardScaler()),\n",
    "    ('knn', KNeighborsRegressor(n_neighbors=k))\n",
    "])\n",
    "\n",
    "knn_sel.fit(df_train[features1], df_train[target])\n",
    "preds = knn_sel.predict(df_test[features1])\n",
    "eval.loc['knn_sel'] = calculate_metrics(df_test[target], preds)"
   ]
  },
  {
   "cell_type": "markdown",
   "id": "0102657d",
   "metadata": {},
   "source": [
    "## Gradient Boosting"
   ]
  },
  {
   "cell_type": "code",
   "execution_count": 21,
   "id": "8c05fb81",
   "metadata": {},
   "outputs": [],
   "source": [
    "from sklearn.ensemble import GradientBoostingRegressor"
   ]
  },
  {
   "cell_type": "code",
   "execution_count": 22,
   "id": "bb344047",
   "metadata": {},
   "outputs": [],
   "source": [
    "gb_all = GradientBoostingRegressor(\n",
    "    learning_rate=.1,\n",
    "    n_estimators=1000,\n",
    "    max_depth=1\n",
    ")\n",
    "\n",
    "gb_all.fit(df_train[features], df_train[target])\n",
    "preds = gb_all.predict(df_test[features])\n",
    "eval.loc['gb_all'] = calculate_metrics(df_test[target], preds)"
   ]
  },
  {
   "cell_type": "code",
   "execution_count": 23,
   "id": "09ae9a74",
   "metadata": {},
   "outputs": [],
   "source": [
    "gb_sel = GradientBoostingRegressor(\n",
    "    learning_rate=.1,\n",
    "    n_estimators=1000,\n",
    "    max_depth=1\n",
    ")\n",
    "\n",
    "gb_sel.fit(df_train[features1], df_train[target])\n",
    "preds = gb_sel.predict(df_test[features1])\n",
    "eval.loc['gb_sel'] = calculate_metrics(df_test[target], preds)"
   ]
  },
  {
   "cell_type": "markdown",
   "id": "c5de3d87",
   "metadata": {},
   "source": [
    "## XGBoost"
   ]
  },
  {
   "cell_type": "code",
   "execution_count": 24,
   "id": "b0ced381",
   "metadata": {},
   "outputs": [],
   "source": [
    "from xgboost import XGBRegressor"
   ]
  },
  {
   "cell_type": "code",
   "execution_count": 25,
   "id": "825e59bb",
   "metadata": {},
   "outputs": [],
   "source": [
    "xgb_all = XGBRegressor(\n",
    "    learning_rate=.1,\n",
    "    n_estimators=1000,\n",
    "    max_depth=1\n",
    ")\n",
    "\n",
    "xgb_all.fit(df_train[features], df_train[target])\n",
    "preds = xgb_all.predict(df_test[features])\n",
    "eval.loc['xgb_all'] = calculate_metrics(df_test[target], preds)"
   ]
  },
  {
   "cell_type": "code",
   "execution_count": 26,
   "id": "fceca802",
   "metadata": {},
   "outputs": [],
   "source": [
    "xgb_sel = XGBRegressor(\n",
    "    learning_rate=.1,\n",
    "    n_estimators=1000,\n",
    "    max_depth=1\n",
    ")\n",
    "\n",
    "xgb_sel.fit(df_train[features1], df_train[target])\n",
    "preds = xgb_sel.predict(df_test[features1])\n",
    "eval.loc['xgb_sel'] = calculate_metrics(df_test[target], preds)"
   ]
  },
  {
   "cell_type": "markdown",
   "id": "f2ea59c3",
   "metadata": {},
   "source": [
    "## Cross-validation"
   ]
  },
  {
   "cell_type": "code",
   "execution_count": 27,
   "id": "e4d7710f",
   "metadata": {},
   "outputs": [],
   "source": [
    "from sklearn.model_selection import KFold"
   ]
  },
  {
   "cell_type": "code",
   "execution_count": 59,
   "id": "328b64db",
   "metadata": {},
   "outputs": [],
   "source": [
    "models = [('Baseline (mean)', mu_y),\n",
    "          ('Linear Regression', lr_all), \n",
    "          ('kNN', knn_all), \n",
    "          ('Gradient Boosting', gb_all), \n",
    "          ('XGBoost', xgb_all)]\n",
    "\n",
    "\n",
    "n_splits = 5\n",
    "kfold = KFold(n_splits)\n",
    "\n",
    "results = np.zeros(shape=(len(models), n_splits))\n",
    "diffs = np.zeros(shape=(len(models), n_splits))\n",
    "totals = np.zeros(shape=(n_splits))\n",
    "\n",
    "\n",
    "for i, (train_index, test_index) in enumerate(kfold.split(df_train)):\n",
    "    df_tt = df_train.iloc[train_index]\n",
    "    df_ho = df_train.iloc[test_index]\n",
    "\n",
    "    totals[i] = df_ho[target].sum()\n",
    "\n",
    "    for j, model in enumerate(models):\n",
    "        if model[0] == 'Baseline (mean)':\n",
    "            mu_y = df_tt[target].mean()\n",
    "            preds = [mu_y] * len(test_index)\n",
    "        else:\n",
    "            model[1].fit(df_tt[features1], df_tt[target])\n",
    "            preds = model[1].predict(df_ho[features1])\n",
    "\n",
    "        results[j,i] = rmse(df_ho[target], preds)\n",
    "        diffs[j,i] = measure_diff(df_ho[target], preds)\n",
    "        \n"
   ]
  },
  {
   "cell_type": "code",
   "execution_count": 60,
   "id": "3f7ddb34",
   "metadata": {},
   "outputs": [
    {
     "data": {
      "text/html": [
       "<div>\n",
       "<style scoped>\n",
       "    .dataframe tbody tr th:only-of-type {\n",
       "        vertical-align: middle;\n",
       "    }\n",
       "\n",
       "    .dataframe tbody tr th {\n",
       "        vertical-align: top;\n",
       "    }\n",
       "\n",
       "    .dataframe thead th {\n",
       "        text-align: right;\n",
       "    }\n",
       "</style>\n",
       "<table border=\"1\" class=\"dataframe\">\n",
       "  <thead>\n",
       "    <tr style=\"text-align: right;\">\n",
       "      <th></th>\n",
       "      <th>models</th>\n",
       "      <th>rmse</th>\n",
       "      <th>diff</th>\n",
       "    </tr>\n",
       "  </thead>\n",
       "  <tbody>\n",
       "    <tr>\n",
       "      <th>0</th>\n",
       "      <td>Baseline (mean)</td>\n",
       "      <td>3.871509e+08</td>\n",
       "      <td>3286.242000</td>\n",
       "    </tr>\n",
       "    <tr>\n",
       "      <th>1</th>\n",
       "      <td>Linear Regression</td>\n",
       "      <td>3.086392e+08</td>\n",
       "      <td>2598.050000</td>\n",
       "    </tr>\n",
       "    <tr>\n",
       "      <th>2</th>\n",
       "      <td>kNN</td>\n",
       "      <td>3.044558e+08</td>\n",
       "      <td>3125.378000</td>\n",
       "    </tr>\n",
       "    <tr>\n",
       "      <th>3</th>\n",
       "      <td>Gradient Boosting</td>\n",
       "      <td>3.198971e+08</td>\n",
       "      <td>1358.926000</td>\n",
       "    </tr>\n",
       "    <tr>\n",
       "      <th>4</th>\n",
       "      <td>XGBoost</td>\n",
       "      <td>3.284742e+08</td>\n",
       "      <td>1730.242017</td>\n",
       "    </tr>\n",
       "  </tbody>\n",
       "</table>\n",
       "</div>"
      ],
      "text/plain": [
       "              models          rmse         diff\n",
       "0    Baseline (mean)  3.871509e+08  3286.242000\n",
       "1  Linear Regression  3.086392e+08  2598.050000\n",
       "2                kNN  3.044558e+08  3125.378000\n",
       "3  Gradient Boosting  3.198971e+08  1358.926000\n",
       "4            XGBoost  3.284742e+08  1730.242017"
      ]
     },
     "execution_count": 60,
     "metadata": {},
     "output_type": "execute_result"
    }
   ],
   "source": [
    "#results\n",
    "labels = [m[0] for m in models]\n",
    "rmses = np.mean(results, axis=1)\n",
    "diffs2 = np.mean(diffs, axis=1)\n",
    "\n",
    "pd.DataFrame({\n",
    "    'models': labels,\n",
    "    'rmse': rmses,\n",
    "    'diff': diffs2,\n",
    "})"
   ]
  },
  {
   "cell_type": "code",
   "execution_count": 61,
   "id": "9b7bfccf",
   "metadata": {},
   "outputs": [
    {
     "data": {
      "text/plain": [
       "np.float64(27680.96371)"
      ]
     },
     "execution_count": 61,
     "metadata": {},
     "output_type": "execute_result"
    }
   ],
   "source": [
    "np.mean(totals) / (1000*1000)  # average total exposure in millions"
   ]
  },
  {
   "cell_type": "code",
   "execution_count": null,
   "id": "ea906f31",
   "metadata": {},
   "outputs": [
    {
     "data": {
      "text/plain": [
       "array([[0., 0., 0., 0., 0.],\n",
       "       [0., 0., 0., 0., 0.],\n",
       "       [0., 0., 0., 0., 0.],\n",
       "       [0., 0., 0., 0., 0.]])"
      ]
     },
     "execution_count": 101,
     "metadata": {},
     "output_type": "execute_result"
    }
   ],
   "source": []
  },
  {
   "cell_type": "code",
   "execution_count": 40,
   "id": "a8ee3144",
   "metadata": {},
   "outputs": [],
   "source": [
    "# total exposure of test set\n",
    "total_exposure = sum(df_test[target]) / (1000*1000)"
   ]
  },
  {
   "cell_type": "code",
   "execution_count": 41,
   "id": "8b2b6f53",
   "metadata": {},
   "outputs": [
    {
     "data": {
      "text/plain": [
       "np.float64(0.008145090483682369)"
      ]
     },
     "execution_count": 41,
     "metadata": {},
     "output_type": "execute_result"
    }
   ],
   "source": [
    "eval.loc[:, 'global_diff'].min() / total_exposure"
   ]
  },
  {
   "cell_type": "code",
   "execution_count": 45,
   "id": "28c66255",
   "metadata": {},
   "outputs": [
    {
     "data": {
      "text/html": [
       "<div>\n",
       "<style scoped>\n",
       "    .dataframe tbody tr th:only-of-type {\n",
       "        vertical-align: middle;\n",
       "    }\n",
       "\n",
       "    .dataframe tbody tr th {\n",
       "        vertical-align: top;\n",
       "    }\n",
       "\n",
       "    .dataframe thead th {\n",
       "        text-align: right;\n",
       "    }\n",
       "</style>\n",
       "<table border=\"1\" class=\"dataframe\">\n",
       "  <thead>\n",
       "    <tr style=\"text-align: right;\">\n",
       "      <th></th>\n",
       "      <th>rmse</th>\n",
       "      <th>mse</th>\n",
       "      <th>mae</th>\n",
       "      <th>global_diff</th>\n",
       "    </tr>\n",
       "  </thead>\n",
       "  <tbody>\n",
       "    <tr>\n",
       "      <th>base_mean</th>\n",
       "      <td>3.814628e+08</td>\n",
       "      <td>1.455139e+17</td>\n",
       "      <td>1.691949e+08</td>\n",
       "      <td>6666.430000</td>\n",
       "    </tr>\n",
       "    <tr>\n",
       "      <th>base_median</th>\n",
       "      <td>3.914104e+08</td>\n",
       "      <td>1.532021e+17</td>\n",
       "      <td>1.129267e+08</td>\n",
       "      <td>21406.840000</td>\n",
       "    </tr>\n",
       "    <tr>\n",
       "      <th>lr_all_regs</th>\n",
       "      <td>3.307531e+08</td>\n",
       "      <td>1.093976e+17</td>\n",
       "      <td>1.353531e+08</td>\n",
       "      <td>1900.940000</td>\n",
       "    </tr>\n",
       "    <tr>\n",
       "      <th>lr_sel_regs</th>\n",
       "      <td>3.305889e+08</td>\n",
       "      <td>1.092890e+17</td>\n",
       "      <td>1.380232e+08</td>\n",
       "      <td>253.000000</td>\n",
       "    </tr>\n",
       "    <tr>\n",
       "      <th>knn_all</th>\n",
       "      <td>3.159408e+08</td>\n",
       "      <td>9.981858e+16</td>\n",
       "      <td>1.101573e+08</td>\n",
       "      <td>3099.890000</td>\n",
       "    </tr>\n",
       "    <tr>\n",
       "      <th>knn_sel</th>\n",
       "      <td>3.155745e+08</td>\n",
       "      <td>9.958728e+16</td>\n",
       "      <td>1.047873e+08</td>\n",
       "      <td>4093.750000</td>\n",
       "    </tr>\n",
       "    <tr>\n",
       "      <th>gb_all</th>\n",
       "      <td>2.865112e+08</td>\n",
       "      <td>8.208868e+16</td>\n",
       "      <td>1.105473e+08</td>\n",
       "      <td>1622.460000</td>\n",
       "    </tr>\n",
       "    <tr>\n",
       "      <th>gb_sel</th>\n",
       "      <td>3.175257e+08</td>\n",
       "      <td>1.008226e+17</td>\n",
       "      <td>1.215332e+08</td>\n",
       "      <td>228.140000</td>\n",
       "    </tr>\n",
       "    <tr>\n",
       "      <th>xgb_all</th>\n",
       "      <td>2.822443e+08</td>\n",
       "      <td>7.966183e+16</td>\n",
       "      <td>1.119294e+08</td>\n",
       "      <td>3540.840088</td>\n",
       "    </tr>\n",
       "    <tr>\n",
       "      <th>xgb_sel</th>\n",
       "      <td>3.100571e+08</td>\n",
       "      <td>9.613538e+16</td>\n",
       "      <td>1.286266e+08</td>\n",
       "      <td>305.250000</td>\n",
       "    </tr>\n",
       "  </tbody>\n",
       "</table>\n",
       "</div>"
      ],
      "text/plain": [
       "                     rmse           mse           mae   global_diff\n",
       "base_mean    3.814628e+08  1.455139e+17  1.691949e+08   6666.430000\n",
       "base_median  3.914104e+08  1.532021e+17  1.129267e+08  21406.840000\n",
       "lr_all_regs  3.307531e+08  1.093976e+17  1.353531e+08   1900.940000\n",
       "lr_sel_regs  3.305889e+08  1.092890e+17  1.380232e+08    253.000000\n",
       "knn_all      3.159408e+08  9.981858e+16  1.101573e+08   3099.890000\n",
       "knn_sel      3.155745e+08  9.958728e+16  1.047873e+08   4093.750000\n",
       "gb_all       2.865112e+08  8.208868e+16  1.105473e+08   1622.460000\n",
       "gb_sel       3.175257e+08  1.008226e+17  1.215332e+08    228.140000\n",
       "xgb_all      2.822443e+08  7.966183e+16  1.119294e+08   3540.840088\n",
       "xgb_sel      3.100571e+08  9.613538e+16  1.286266e+08    305.250000"
      ]
     },
     "execution_count": 45,
     "metadata": {},
     "output_type": "execute_result"
    }
   ],
   "source": [
    "eval"
   ]
  },
  {
   "cell_type": "code",
   "execution_count": 42,
   "id": "828b7020",
   "metadata": {},
   "outputs": [],
   "source": [
    "eval_exp = eval"
   ]
  },
  {
   "cell_type": "code",
   "execution_count": 43,
   "id": "3805cfe5",
   "metadata": {},
   "outputs": [],
   "source": [
    "# converting eval_exp units to millions of $\n",
    "\n",
    "eval_exp_mi = (eval_exp / (1000 * 1000)).round(2)"
   ]
  },
  {
   "cell_type": "code",
   "execution_count": 44,
   "id": "df079f09",
   "metadata": {},
   "outputs": [
    {
     "ename": "NameError",
     "evalue": "name 'eval_fair' is not defined",
     "output_type": "error",
     "traceback": [
      "\u001b[31m---------------------------------------------------------------------------\u001b[39m",
      "\u001b[31mNameError\u001b[39m                                 Traceback (most recent call last)",
      "\u001b[36mCell\u001b[39m\u001b[36m \u001b[39m\u001b[32mIn[44]\u001b[39m\u001b[32m, line 3\u001b[39m\n\u001b[32m      1\u001b[39m cols = [\u001b[33m'\u001b[39m\u001b[33mrmse\u001b[39m\u001b[33m'\u001b[39m, \u001b[33m'\u001b[39m\u001b[33mmae\u001b[39m\u001b[33m'\u001b[39m]\n\u001b[32m----> \u001b[39m\u001b[32m3\u001b[39m merged = pd.concat((eval_exp_mi[cols], \u001b[43meval_fair\u001b[49m[cols]), axis=\u001b[32m1\u001b[39m)\n\u001b[32m      5\u001b[39m \u001b[38;5;66;03m#merged.columns = ['RMSE ()', 'b', 'c', 'd']\u001b[39;00m\n\u001b[32m      6\u001b[39m merged.columns = pd.MultiIndex.from_tuples([(\u001b[33m'\u001b[39m\u001b[33mExposure\u001b[39m\u001b[33m'\u001b[39m, \u001b[33m'\u001b[39m\u001b[33mRMSE\u001b[39m\u001b[33m'\u001b[39m), (\u001b[33m'\u001b[39m\u001b[33mExposure\u001b[39m\u001b[33m'\u001b[39m, \u001b[33m'\u001b[39m\u001b[33mMAE\u001b[39m\u001b[33m'\u001b[39m), (\u001b[33m'\u001b[39m\u001b[33mPct FAIR Plan\u001b[39m\u001b[33m'\u001b[39m, \u001b[33m'\u001b[39m\u001b[33mRMSE\u001b[39m\u001b[33m'\u001b[39m), (\u001b[33m'\u001b[39m\u001b[33mPct FAIR Plan\u001b[39m\u001b[33m'\u001b[39m, \u001b[33m'\u001b[39m\u001b[33mMAE\u001b[39m\u001b[33m'\u001b[39m)])\n",
      "\u001b[31mNameError\u001b[39m: name 'eval_fair' is not defined"
     ]
    }
   ],
   "source": [
    "cols = ['rmse', 'mae']\n",
    "\n",
    "merged = pd.concat((eval_exp_mi[cols], eval_fair[cols]), axis=1)\n",
    "\n",
    "#merged.columns = ['RMSE ()', 'b', 'c', 'd']\n",
    "merged.columns = pd.MultiIndex.from_tuples([('Exposure', 'RMSE'), ('Exposure', 'MAE'), ('Pct FAIR Plan', 'RMSE'), ('Pct FAIR Plan', 'MAE')])\n",
    "\n",
    "\n",
    "import seaborn as sns\n",
    "cm = sns.color_palette(\"rocket\", as_cmap=True)\n",
    "\n",
    "merged.style.background_gradient(cmap=cm)\n",
    "\n"
   ]
  },
  {
   "cell_type": "code",
   "execution_count": null,
   "id": "645d8704",
   "metadata": {},
   "outputs": [
    {
     "data": {
      "text/plain": [
       "MultiIndex([(     'Exposure', 'RMSE'),\n",
       "            (     'Exposure',  'MAE'),\n",
       "            ('Pct FAIR Plan', 'RMSE'),\n",
       "            ('Pct FAIR Plan',  'MAE')],\n",
       "           )"
      ]
     },
     "execution_count": 131,
     "metadata": {},
     "output_type": "execute_result"
    }
   ],
   "source": []
  },
  {
   "cell_type": "code",
   "execution_count": null,
   "id": "2f9af6c6",
   "metadata": {},
   "outputs": [],
   "source": []
  },
  {
   "cell_type": "code",
   "execution_count": null,
   "id": "6a5bac43",
   "metadata": {},
   "outputs": [
    {
     "name": "stdout",
     "output_type": "stream",
     "text": [
      "| Model       |     RMSE |      MAE |\n",
      "|:------------|---------:|---------:|\n",
      "| base_mean   | 0.095314 | 0.057739 |\n",
      "| base_median | 0.101129 | 0.04041  |\n",
      "| lr_all_regs | 0.06242  | 0.0339   |\n",
      "| lr_sel_regs | 0.054167 | 0.032555 |\n",
      "| knn_20_all  | 0.096716 | 0.055577 |\n",
      "| knn_20_sel  | 0.096716 | 0.055577 |\n",
      "| gb_all      | 0.039186 | 0.023176 |\n",
      "| gb_sel      | 0.041296 | 0.024298 |\n",
      "| xgb_all     | 0.040688 | 0.023824 |\n",
      "| xgb_sel     | 0.043219 | 0.025379 |\n"
     ]
    }
   ],
   "source": [
    "tab = tabulate((eval[['rmse', 'mae']]).round(6), \n",
    "               tablefmt=\"pipe\",\n",
    "               headers=[\"Model\", \"RMSE\", \"MAE\"])\n",
    "print(tab)"
   ]
  },
  {
   "cell_type": "code",
   "execution_count": 30,
   "id": "cbc5bba6",
   "metadata": {},
   "outputs": [
    {
     "data": {
      "image/png": "[encoded data removed]",
      "text/plain": [
       "<Figure size 2000x300 with 1 Axes>"
      ]
     },
     "metadata": {},
     "output_type": "display_data"
    }
   ],
   "source": [
    "plot_metrics(eval)"
   ]
  },
  {
   "cell_type": "code",
   "execution_count": 31,
   "id": "56b71cde",
   "metadata": {},
   "outputs": [
    {
     "data": {
      "text/plain": [
       "1099         95978\n",
       "1061        148154\n",
       "754         154072\n",
       "980         164268\n",
       "768         171748\n",
       "           ...    \n",
       "80      3127641732\n",
       "1225    3413841672\n",
       "60      3745871198\n",
       "1402    4391342786\n",
       "430     5116111492\n",
       "Name: exposure_22, Length: 1231, dtype: int64"
      ]
     },
     "execution_count": 31,
     "metadata": {},
     "output_type": "execute_result"
    }
   ],
   "source": [
    "df['exposure_22'].sort_values()"
   ]
  },
  {
   "cell_type": "markdown",
   "id": "ffc38c9c",
   "metadata": {},
   "source": [
    "For Exposure_22 as target\n",
    "\n",
    "| Model       |   RMSE ($ MI) |   MAE ($ MI) |\n",
    "|:------------|---------------:|-------------:|\n",
    "| base_mean   |         477.15 |       181.85 |\n",
    "| base_median |         490.32 |       131.42 |\n",
    "| lr_all_regs |         436.67 |       171.83 |\n",
    "| lr_sel_regs |         441.6  |       168.29 |\n",
    "| knn_20_all  |         484.88 |       192.39 |\n",
    "| knn_20_sel  |         484.88 |       192.39 |\n",
    "| gb_all      |         392.69 |       144.74 |\n",
    "| gb_sel      |         405.78 |       148.5  |\n",
    "| xgb_all     |         404.53 |       144.22 |\n",
    "| xgb_sel     |         395.19 |       148.49 |\n",
    "\n",
    "\n",
    "\n",
    "Percentual \n",
    "\n",
    "| Model       |     RMSE |      MAE |\n",
    "|:------------|---------:|---------:|\n",
    "| base_mean   | 0.095314 | 0.057739 |\n",
    "| base_median | 0.101129 | 0.04041  |\n",
    "| lr_all_regs | 0.06242  | 0.0339   |\n",
    "| lr_sel_regs | 0.054167 | 0.032555 |\n",
    "| knn_20_all  | 0.096716 | 0.055577 |\n",
    "| knn_20_sel  | 0.096716 | 0.055577 |\n",
    "| gb_all      | 0.039186 | 0.023176 |\n",
    "| gb_sel      | 0.041296 | 0.024298 |\n",
    "| xgb_all     | 0.040688 | 0.023824 |\n",
    "| xgb_sel     | 0.043219 | 0.025379 |"
   ]
  }
 ],
 "metadata": {
  "kernelspec": {
   "display_name": "erdos_summer_2025",
   "language": "python",
   "name": "python3"
  },
  "language_info": {
   "codemirror_mode": {
    "name": "ipython",
    "version": 3
   },
   "file_extension": ".py",
   "mimetype": "text/x-python",
   "name": "python",
   "nbconvert_exporter": "python",
   "pygments_lexer": "ipython3",
   "version": "3.12.10"
  }
 },
 "nbformat": 4,
 "nbformat_minor": 5
}
