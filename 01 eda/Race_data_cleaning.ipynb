{
 "cells": [
  {
   "cell_type": "code",
   "execution_count": 3,
   "id": "bb552fe5",
   "metadata": {},
   "outputs": [],
   "source": [
    "import pandas as pd\n",
    "import numpy as np\n",
    "import matplotlib.pyplot as plt\n",
    "import seaborn as sns\n",
    "import csv\n",
    "import re\n",
    "import os\n",
    "\n",
    "CalGuide = pd.read_csv(\"../USA_ZIP_Code_Areas_anaylsis_1822069148502459445.csv\")\n",
    "CalZips = CalGuide.ZIP_Code\n",
    "CalZips = CalZips.tolist()"
   ]
  },
  {
   "cell_type": "code",
   "execution_count": 4,
   "id": "5d91a29f",
   "metadata": {},
   "outputs": [],
   "source": [
    "file_paths = [\n",
    "    'WhitePop2017.csv',\n",
    "    'WhitePop2018.csv',\n",
    "    'WhitePop2019.csv',\n",
    "    'WhitePop2020.csv',\n",
    "    'WhitePop2021.csv',\n",
    "    'WhitePop2022.csv',\n",
    "    'WhitePop2023.csv'\n",
    "]"
   ]
  },
  {
   "cell_type": "code",
   "execution_count": 7,
   "id": "c85618a0",
   "metadata": {},
   "outputs": [],
   "source": [
    "# Load ZIP-level dataset\n",
    "zip_df = pd.read_csv('../zip_code_database.csv')\n",
    "zip_df['county'] = zip_df['county'].str.replace(' County', '', regex=False)\n",
    "\n",
    "# Filter ZIPs to California\n",
    "CalZips = zip_df.loc[zip_df['state'] == 'CA', 'zip'].unique()\n",
    "\n",
    "# Collect cleaned data for all years\n",
    "all_years_data = []\n",
    "\n",
    "for input_file in file_paths:\n",
    "    year = re.search(r'\\d{4}', input_file).group()  # Extract year\n",
    "\n",
    "    # Step 1: Clean county-level percent_white from raw file\n",
    "    county_data = []\n",
    "    with open(input_file, mode='r', newline='', encoding='utf-8') as infile:\n",
    "        reader = csv.reader(infile)\n",
    "        county_name = None\n",
    "        percent_value = None\n",
    "\n",
    "        for row in reader:\n",
    "            if not row or not row[0].strip():\n",
    "                continue\n",
    "\n",
    "            first_col = row[0].strip()\n",
    "\n",
    "            if 'County' in first_col and 'California' in first_col:\n",
    "                if county_name and percent_value:\n",
    "                    county_data.append((county_name, percent_value))\n",
    "                    percent_value = None\n",
    "                county_name = re.sub(r'\\s*County, California', '', first_col)\n",
    "\n",
    "            elif 'Percent' in first_col:\n",
    "                percent_value = row[1].strip().replace('%', '')\n",
    "\n",
    "        if county_name and percent_value:\n",
    "            county_data.append((county_name, percent_value))\n",
    "\n",
    "    # Convert to DataFrame\n",
    "    county_df = pd.DataFrame(county_data, columns=['county', 'percent_white'])\n",
    "\n",
    "    # Normalize county names before merging\n",
    "    zip_df['county'] = zip_df['county'].str.replace(' County', '', regex=False).str.strip().str.lower()\n",
    "    county_df['county'] = county_df['county'].str.strip().str.lower()\n",
    "\n",
    "    # Merge with ZIP-level data\n",
    "    merged_df = pd.merge(zip_df, county_df, on='county', how='left')\n",
    "\n",
    "    # Merge with ZIP data\n",
    "    #merged_df = pd.merge(zip_df, county_df, on='county', how='left')\n",
    "    merged_df = merged_df[['zip', 'percent_white']]\n",
    "    merged_df = merged_df[merged_df['zip'].isin(CalZips)]\n",
    "    merged_df['year'] = int(year)\n",
    "    \n",
    "    all_years_data.append(merged_df)\n",
    "\n",
    "# Combine and pivot\n",
    "combined_df = pd.concat(all_years_data, ignore_index=True)\n",
    "pivoted_df = combined_df.pivot(index='zip', columns='year', values='percent_white')\n",
    "\n",
    "# Optional: sort columns (years)\n",
    "pivoted_df = pivoted_df.sort_index(axis=1)\n",
    "\n",
    "# Reset index so ZIP is a column\n",
    "pivoted_df.reset_index(inplace=True)\n",
    "\n",
    "# Save output\n",
    "pivoted_df.to_csv('percent_white_population_yearly.csv', index=False)\n"
   ]
  },
  {
   "cell_type": "code",
   "execution_count": null,
   "id": "4174346d",
   "metadata": {},
   "outputs": [
    {
     "name": "stdout",
     "output_type": "stream",
     "text": [
      "year    zip  2017  2018  2019  2020  2021  2022  2023\n",
      "2031  95214  55.9  56.3  56.5  51.5  46.5  42.1  37.1\n"
     ]
    }
   ],
   "source": []
  },
  {
   "cell_type": "code",
   "execution_count": null,
   "id": "2ad7eccb",
   "metadata": {},
   "outputs": [],
   "source": []
  }
 ],
 "metadata": {
  "kernelspec": {
   "display_name": "base",
   "language": "python",
   "name": "python3"
  },
  "language_info": {
   "codemirror_mode": {
    "name": "ipython",
    "version": 3
   },
   "file_extension": ".py",
   "mimetype": "text/x-python",
   "name": "python",
   "nbconvert_exporter": "python",
   "pygments_lexer": "ipython3",
   "version": "3.11.7"
  }
 },
 "nbformat": 4,
 "nbformat_minor": 5
}
