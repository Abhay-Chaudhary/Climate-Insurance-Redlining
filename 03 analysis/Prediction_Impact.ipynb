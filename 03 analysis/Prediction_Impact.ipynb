{
 "cells": [
  {
   "cell_type": "code",
   "execution_count": 1,
   "id": "4c842e84",
   "metadata": {},
   "outputs": [],
   "source": [
    "import pandas as pd\n",
    "import numpy as np\n",
    "import matplotlib.pyplot as plt\n",
    "from pathlib import Path\n",
    "import seaborn as sns"
   ]
  },
  {
   "cell_type": "code",
   "execution_count": 4,
   "id": "9d37a24c",
   "metadata": {},
   "outputs": [],
   "source": [
    "df=pd.read_csv(\"../clean_data/full_dataset.csv\")"
   ]
  },
  {
   "cell_type": "code",
   "execution_count": 6,
   "id": "25fcf830",
   "metadata": {},
   "outputs": [],
   "source": [
    "# Add a column with random percentage values (as floats from 0.00 to 1.00)\n",
    "df['predicted_fair_plan'] = np.round(np.random.uniform(0, 1, size=len(df)), 2)"
   ]
  },
  {
   "cell_type": "code",
   "execution_count": null,
   "id": "3a2785b0",
   "metadata": {},
   "outputs": [],
   "source": []
  }
 ],
 "metadata": {
  "kernelspec": {
   "display_name": "erdos_summer_2025",
   "language": "python",
   "name": "python3"
  },
  "language_info": {
   "codemirror_mode": {
    "name": "ipython",
    "version": 3
   },
   "file_extension": ".py",
   "mimetype": "text/x-python",
   "name": "python",
   "nbconvert_exporter": "python",
   "pygments_lexer": "ipython3",
   "version": "3.12.10"
  }
 },
 "nbformat": 4,
 "nbformat_minor": 5
}
